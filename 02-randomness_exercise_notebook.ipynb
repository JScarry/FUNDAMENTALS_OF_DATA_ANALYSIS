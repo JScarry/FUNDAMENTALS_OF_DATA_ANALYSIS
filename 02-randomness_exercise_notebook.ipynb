{
 "cells": [
  {
   "cell_type": "markdown",
   "id": "f798c5f5-a7c4-4237-bb8c-971c3d09504b",
   "metadata": {},
   "source": [
    "### Exercises about randomness\n",
    "\n",
    "Topic 2. Randomness\n",
    "\n",
    "Exercise 1, 2 and 3 answers below.\n"
   ]
  },
  {
   "cell_type": "markdown",
   "id": "2b3b0f58",
   "metadata": {},
   "source": [
    "## Exercise 1\n",
    "Remember to do these exercises in your own notebook in your assessment repository.\n",
    "\n",
    "It is somewhat interesting that (5 * 4 * 3 * 2 * 1) perfectly divides (10 * 9 * 8 * 7 * 6) - there's no remainder.\n",
    "\n",
    "If we only wanted exactly four heads as opposed to five, the equivalent calculation would be (10 * 9 * 8 * 7) / (4 * 3 * 2 * 1).\n",
    "\n",
    "Does that evenly divide too? What is the formula in general?\n",
    "\n",
    "Does it always come out as a positive whole number?"
   ]
  },
  {
   "cell_type": "markdown",
   "id": "689a3acb",
   "metadata": {},
   "source": [
    "### Exercise 1 answer:\n",
    "Formula is: (10 * 9 * 8 * 7) / (4 * 3 * 2) = 210\n",
    "\n",
    "Devides out evenly to 210.0 with no remainder.\n",
    "We can make this an int by changing devide by to //"
   ]
  },
  {
   "cell_type": "code",
   "execution_count": 2,
   "id": "23749879",
   "metadata": {
    "scrolled": true
   },
   "outputs": [
    {
     "data": {
      "text/plain": [
       "210.0"
      ]
     },
     "execution_count": 2,
     "metadata": {},
     "output_type": "execute_result"
    }
   ],
   "source": [
    "(10 * 9 * 8 * 7) / (4 * 3 *2)"
   ]
  },
  {
   "cell_type": "code",
   "execution_count": 3,
   "id": "19115c87-776d-4c6a-85ee-a6ee3f53013a",
   "metadata": {},
   "outputs": [],
   "source": [
    "# For generating numbers.\n",
    "import numpy as np\n",
    "import random"
   ]
  },
  {
   "cell_type": "code",
   "execution_count": 4,
   "id": "39f27ca0",
   "metadata": {},
   "outputs": [
    {
     "name": "stdout",
     "output_type": "stream",
     "text": [
      "210.0\n"
     ]
    }
   ],
   "source": [
    "for _ in range(1):\n",
    "    n = (10 * 9 * 8 * 7) / (4 * 3 *2)\n",
    "    print(f'{n}')"
   ]
  },
  {
   "cell_type": "markdown",
   "id": "72be9289",
   "metadata": {},
   "source": [
    "## Exercise 2\n",
    "Remember to do these exercises in your own notebook in your assessment repository.\n",
    "\n",
    "Note that there are the same number of ways to get 4 tails as there to get 4 heads. Explain why this is."
   ]
  },
  {
   "cell_type": "markdown",
   "id": "824d4eb6",
   "metadata": {},
   "source": [
    "### Exercise 2 answer:\n",
    "Yes, there are the same number of ways because we have a binary choice 1 or 0. 1 and 0 are mutually exclusive. Any calculations carried out based on getting heads are the same for getting tails, since there are only 2 choices.\n",
    "\n",
    "In the code below from the video we see the output shows the result of 5 heads, each time there are also 5 tails because the choice is binary."
   ]
  },
  {
   "cell_type": "code",
   "execution_count": 5,
   "id": "a41656df",
   "metadata": {},
   "outputs": [
    {
     "name": "stdout",
     "output_type": "stream",
     "text": [
      "[1 0 0 0 1 1 1 0 1 0]\n",
      "[0 0 1 0 0 1 0 1 1 1]\n",
      "[0 0 1 0 0 1 1 0 1 1]\n",
      "Total generated: 11\n"
     ]
    }
   ],
   "source": [
    "# Keep flipping coins until we get three examples of getting five heads in ten coin tosses.\n",
    "\n",
    "# Number of examples.\n",
    "N = 3\n",
    "\n",
    "# Keep track of number of arrays generated.\n",
    "total_no = 0\n",
    "\n",
    "# Keep trying until we get three examples.\n",
    "while N > 0:\n",
    "    # Add 1 to total.\n",
    "    total_no = total_no + 1\n",
    "    # Toss 10 coins.\n",
    "    tosses = np.random.binomial(1, 0.5, 10)\n",
    "    # Check if we got five heads.\n",
    "    if tosses.sum() == 5:\n",
    "        # If we got 5 heads, print the list of heads/tails.\n",
    "        print(tosses)\n",
    "        # Reduce the number of examples left to find by 1.\n",
    "        N = N - 1\n",
    "\n",
    "print(f'Total generated: {total_no}')"
   ]
  },
  {
   "cell_type": "markdown",
   "id": "50379c3a",
   "metadata": {},
   "source": [
    "Below shows the heads and tails combinations \n",
    "of flipping 2 coins. You can see there are \n",
    "the same number of Heads and Tails. An equal \n",
    "chance of getting 2 Heads or 2 tails. The same \n",
    "can be said for 4 out of 10. An equal chance whether \n",
    "you look for heads or tails.\n"
   ]
  },
  {
   "cell_type": "code",
   "execution_count": 14,
   "id": "c36b8e68",
   "metadata": {},
   "outputs": [
    {
     "data": {
      "text/plain": [
       "[('H', 'H'), ('H', 'T'), ('T', 'H'), ('T', 'T')]"
      ]
     },
     "execution_count": 14,
     "metadata": {},
     "output_type": "execute_result"
    }
   ],
   "source": [
    "import itertools\n",
    "list(itertools.product(\"HT\", repeat=2))"
   ]
  },
  {
   "cell_type": "markdown",
   "id": "866645bd",
   "metadata": {},
   "source": [
    "## Exercise 3\n",
    "Remember to do these exercises in your own notebook in your assessment repository.\n",
    "\n",
    "Plot bar charts or histograms of any three different distributions listed at the following link:\n",
    "\n",
    "https://numpy.org/doc/stable/reference/random/generator.html#distributions"
   ]
  },
  {
   "cell_type": "markdown",
   "id": "7e35e936",
   "metadata": {},
   "source": [
    "### Exercise 3 Answer:\n",
    "\n",
    "Histograms of 3 distributions below.\n",
    "\n",
    "normal ([loc, scale, size])\n",
    "\n",
    "lognormal ([mean, sigma, size])\n",
    "\n",
    "logistic ([loc, scale, size])\n",
    "\n"
   ]
  },
  {
   "cell_type": "code",
   "execution_count": 64,
   "id": "4585347e",
   "metadata": {},
   "outputs": [
    {
     "data": {
      "text/plain": [
       "Text(0.5, 1.0, 'normal')"
      ]
     },
     "execution_count": 64,
     "metadata": {},
     "output_type": "execute_result"
    },
    {
     "data": {
      "image/png": "[encoded data removed]",
      "text/plain": [
       "<Figure size 432x288 with 1 Axes>"
      ]
     },
     "metadata": {
      "needs_background": "light"
     },
     "output_type": "display_data"
    }
   ],
   "source": [
    "import numpy as np\n",
    "import matplotlib.pyplot as plt\n",
    "\n",
    "x = np.random.normal(10, 0.1, 1000)\n",
    "plt.hist(x, bins=20)\n",
    "plt.title(\"normal\")"
   ]
  },
  {
   "cell_type": "code",
   "execution_count": 65,
   "id": "12ee813a",
   "metadata": {},
   "outputs": [
    {
     "data": {
      "text/plain": [
       "Text(0.5, 1.0, 'lognormal')"
      ]
     },
     "execution_count": 65,
     "metadata": {},
     "output_type": "execute_result"
    },
    {
     "data": {
      "image/png": "[encoded data removed]",
      "text/plain": [
       "<Figure size 432x288 with 1 Axes>"
      ]
     },
     "metadata": {
      "needs_background": "light"
     },
     "output_type": "display_data"
    }
   ],
   "source": [
    "import numpy as np\n",
    "import matplotlib.pyplot as plt\n",
    "\n",
    "x = np.random.lognormal(10, 0.1, 1000)\n",
    "plt.hist(x, bins=20)\n",
    "plt.title(\"lognormal\")"
   ]
  },
  {
   "cell_type": "code",
   "execution_count": 66,
   "id": "5e8d77e9",
   "metadata": {},
   "outputs": [
    {
     "data": {
      "text/plain": [
       "Text(0.5, 1.0, 'logistic')"
      ]
     },
     "execution_count": 66,
     "metadata": {},
     "output_type": "execute_result"
    },
    {
     "data": {
      "image/png": "[encoded data removed]",
      "text/plain": [
       "<Figure size 432x288 with 1 Axes>"
      ]
     },
     "metadata": {
      "needs_background": "light"
     },
     "output_type": "display_data"
    }
   ],
   "source": [
    "import numpy as np\n",
    "import matplotlib.pyplot as plt\n",
    "\n",
    "x = np.random.logistic(10, 0.1, 1000)\n",
    "plt.hist(x, bins=20)\n",
    "plt.title(\"logistic\")"
   ]
  }
 ],
 "metadata": {
  "kernelspec": {
   "display_name": "Python 3 (ipykernel)",
   "language": "python",
   "name": "python3"
  },
  "language_info": {
   "codemirror_mode": {
    "name": "ipython",
    "version": 3
   },
   "file_extension": ".py",
   "mimetype": "text/x-python",
   "name": "python",
   "nbconvert_exporter": "python",
   "pygments_lexer": "ipython3",
   "version": "3.9.7"
  }
 },
 "nbformat": 4,
 "nbformat_minor": 5
}
