{
 "cells": [
  {
   "cell_type": "markdown",
   "id": "409af870",
   "metadata": {},
   "source": [
    "### Topic 3. Outliers\n",
    "\n",
    "Exercise 1 and 2 answers below."
   ]
  },
  {
   "cell_type": "markdown",
   "id": "60fd3f29",
   "metadata": {},
   "source": [
    "### Exercise 1\n",
    "\n",
    "*Remember to do these exercises in your own notebook in your assessment repository.*\n",
    "\n",
    "Create box plots on a single set of axes for all five experiments in the morley data set."
   ]
  },
  {
   "cell_type": "markdown",
   "id": "f59ff311",
   "metadata": {},
   "source": [
    "### Exercise 1: Answer\n",
    "\n",
    "I copied code from lecture notebook and added \n",
    "variables for experiments 3 to 5 individually.\n",
    "\n",
    "So variables exper_1 to exper_5 created.\n",
    "\n",
    "Then add them to the box plot.\n",
    "\n"
   ]
  },
  {
   "cell_type": "code",
   "execution_count": 1,
   "id": "65d2ba71",
   "metadata": {},
   "outputs": [],
   "source": [
    "# Numerical arrays.\n",
    "import numpy as np\n",
    "\n",
    "# Plotting.\n",
    "import matplotlib.pyplot as plt\n",
    "\n",
    "# Statistics.\n",
    "import scipy.stats as ss\n",
    "\n",
    "import pandas as pd"
   ]
  },
  {
   "cell_type": "code",
   "execution_count": 3,
   "id": "d1780fa2",
   "metadata": {},
   "outputs": [
    {
     "data": {
      "text/plain": [
       "Text(0.5, 1.0, 'Morley dataset 5 experiments')"
      ]
     },
     "execution_count": 3,
     "metadata": {},
     "output_type": "execute_result"
    },
    {
     "data": {
      "image/png": "[encoded data removed]",
      "text/plain": [
       "<Figure size 432x288 with 1 Axes>"
      ]
     },
     "metadata": {
      "needs_background": "light"
     },
     "output_type": "display_data"
    }
   ],
   "source": [
    "# Read in the morley data.\n",
    "data = np.genfromtxt('data/morley.csv', skip_header=1, delimiter=',', deletechars='\"')\n",
    "\n",
    "# Remove the first column.\n",
    "data = data[:,1:]\n",
    "\n",
    "# Select the data for the first experiment.\n",
    "exper_1 = data[:20, 2]\n",
    "exper_1\n",
    "\n",
    "# Select the data for the second experiment.\n",
    "exper_2 = data[20:40, 2]\n",
    "exper_2\n",
    "\n",
    "# Select the data for the first experiment.\n",
    "exper_3 = data[40:60, 2]\n",
    "exper_3\n",
    "\n",
    "# Select the data for the first experiment.\n",
    "exper_4 = data[60:80, 2]\n",
    "exper_4\n",
    "\n",
    "# Select the data for the first experiment.\n",
    "exper_5 = data[80:100, 2]\n",
    "exper_5\n",
    "\n",
    "\n",
    "# Create a box plot.\n",
    "plt.boxplot(np.array([exper_1, exper_2,exper_3, exper_4, exper_5]).T);\n",
    "# Add title\n",
    "plt.title('Morley dataset 5 experiments')\n",
    "\n"
   ]
  },
  {
   "cell_type": "markdown",
   "id": "5a6eced1",
   "metadata": {},
   "source": [
    "### Exercise 2\n",
    "\n",
    "Remember to do these exercises in your own notebook in your assessment repository.\n",
    "\n",
    "Create box plots for all of the numercial variables in Fisher's Iris Data Set.\n"
   ]
  },
  {
   "cell_type": "markdown",
   "id": "77a5c1ae",
   "metadata": {},
   "source": [
    "### Exercise 2: Answer\n",
    "\n",
    "Imported Iris dataset directly from seaborn and assigned it the name iris_df\n",
    "\n",
    "Plotted boxplots for each variable. 4 sub plots.\n"
   ]
  },
  {
   "cell_type": "code",
   "execution_count": 4,
   "id": "731002db",
   "metadata": {},
   "outputs": [
    {
     "name": "stdout",
     "output_type": "stream",
     "text": [
      "   sepal_length  sepal_width  petal_length  petal_width species\n",
      "0           5.1          3.5           1.4          0.2  setosa\n",
      "1           4.9          3.0           1.4          0.2  setosa\n",
      "2           4.7          3.2           1.3          0.2  setosa\n",
      "3           4.6          3.1           1.5          0.2  setosa\n",
      "4           5.0          3.6           1.4          0.2  setosa\n"
     ]
    },
    {
     "data": {
      "image/png": "[encoded data removed]",
      "text/plain": [
       "<Figure size 432x288 with 4 Axes>"
      ]
     },
     "metadata": {
      "needs_background": "light"
     },
     "output_type": "display_data"
    }
   ],
   "source": [
    "import pandas as pd\n",
    "import matplotlib\n",
    "import matplotlib.pyplot as plt\n",
    "import seaborn as sns\n",
    "import time\n",
    "\n",
    "iris_df = sns.load_dataset(\"iris\") #load iris dataset directly from seaborn\n",
    "print(iris_df.head())\n",
    "\n",
    "plt.subplot(2, 2, 1)\n",
    "sns.boxplot(x=\"species\",y=\"sepal_length\",data=iris_df)\n",
    "plt.title('Sepal length')\n",
    "\n",
    "plt.subplot(2, 2, 2)\n",
    "sns.boxplot(x=\"species\",y=\"sepal_width\",data=iris_df)\n",
    "plt.title('Sepal width')\n",
    "\n",
    "plt.subplot(2, 2, 3)\n",
    "sns.boxplot(x=\"species\",y=\"petal_length\",data=iris_df)\n",
    "plt.title('Petal length')\n",
    "\n",
    "plt.subplot(2, 2, 4)\n",
    "sns.boxplot(x=\"species\",y=\"petal_width\",data=iris_df)\n",
    "plt.title('Petal width')\n",
    "\n",
    "# set the spacing between subplots\n",
    "plt.subplots_adjust(left=9, bottom=9, right=10, top=10, wspace=0.5,hspace=1)\n",
    "plt.show()"
   ]
  },
  {
   "cell_type": "code",
   "execution_count": null,
   "id": "c8cc6442",
   "metadata": {},
   "outputs": [],
   "source": []
  }
 ],
 "metadata": {
  "kernelspec": {
   "display_name": "Python 3 (ipykernel)",
   "language": "python",
   "name": "python3"
  },
  "language_info": {
   "codemirror_mode": {
    "name": "ipython",
    "version": 3
   },
   "file_extension": ".py",
   "mimetype": "text/x-python",
   "name": "python",
   "nbconvert_exporter": "python",
   "pygments_lexer": "ipython3",
   "version": "3.9.7"
  }
 },
 "nbformat": 4,
 "nbformat_minor": 5
}
