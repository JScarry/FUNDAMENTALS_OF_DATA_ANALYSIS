{
 "cells": [
  {
   "cell_type": "markdown",
   "id": "bbf9a75f",
   "metadata": {},
   "source": [
    "## 01 Information Exercise notebook"
   ]
  },
  {
   "cell_type": "markdown",
   "id": "24fb5ba8",
   "metadata": {},
   "source": [
    "Author: Jarlath Scarry\n",
    "***"
   ]
  },
  {
   "cell_type": "markdown",
   "id": "1bf305f7",
   "metadata": {},
   "source": [
    "### Exercise 1\n",
    "\n",
    "Remember to do these exercises in your own notebook in your assessment repository.\n",
    "\n",
    "Adapt the code above to generate a 1000 character long string with weights based on the previous two characters.\n"
   ]
  },
  {
   "cell_type": "code",
   "execution_count": 10,
   "id": "1c13df59",
   "metadata": {},
   "outputs": [
    {
     "name": "stdout",
     "output_type": "stream",
     "text": [
      "\n",
      "\n",
      "\n",
      "[9801, 1743, 3008, 5455, 15402, 2374, 2938, 7902, 8611, 232, 1291, 5194, 2459, 8032, 9471, 1971, 223, 6617, 7246, 12225, 3970, 962, 2958, 181, 2592, 80, 26950]\n",
      "a: 9801\n",
      "b: 1743\n",
      "c: 3008\n",
      "d: 5455\n",
      "e: 15402\n",
      "f: 2374\n",
      "g: 2938\n",
      "h: 7902\n",
      "i: 8611\n",
      "j: 232\n",
      "k: 1291\n",
      "l: 5194\n",
      "m: 2459\n",
      "n: 8032\n",
      "o: 9471\n",
      "p: 1971\n",
      "q: 223\n",
      "r: 6617\n",
      "s: 7246\n",
      "t: 12225\n",
      "u: 3970\n",
      "v: 962\n",
      "w: 2958\n",
      "x: 181\n",
      "y: 2592\n",
      "z: 80\n",
      " : 26950\n",
      "\n",
      "\n",
      "\n",
      " acoa onm bkpeshetioo aladraes ru ipemi roeet  rtrdncah gthtftetbnsrftnvgnlnlhsailtehheivoaeotot caoruthyeec hird nof aeatecetaranbssef n ua vyert inihm k otan satg eamogbnsdorpste tlh el crmitb e ecnrfotsn  arpvc h sioywl  y htoelhu orhtc optturw  tgdthressaehljocsp nog  rucos r ui ih ondbd y  lbosr  ethbiss otdween ltecaihnh acwsntnaneo ldm tepwyng adthb onuhsact lo iiieyiddhgriesi hputni se n yoowideesaknerf a whsw gdur t nhttstrftran nossg o tmei o t d t  htld yapno   eiphathosashwlarn te ew  edah ies luspnmsofla eaeyhsiash reeei  rhocuaenivola fdcyseees hldeysto dur  patiielrew iec sa ffrhkh mch  gttmmdrhheue i  usmhgsa s soe  ellstyort ge hwtcteh fh e edeuedi  soeahrotsnoer am ahrtirtdcyegdi  s r wro orthteiiala  uis rhr mtsvc s  ate ti g uit npa   dllduaeid oorue  otmon s ggfaizehhep yeeedhresshegliemet i alrai oogs n t cneue t hoi  iot tnel s atne dce neclot  t eriet   gonoaa ed  es   ihpiims cit f  erkhlpifti ienubtfdthates th  iisuftdsotots eoniieelwdt h mnim reoybtaooynteaie\n"
     ]
    }
   ],
   "source": [
    "# make HTTP request for internet sources.\n",
    "#from itertools import pairwise\n",
    "import urllib.request\n",
    "# The URL of a text version of Aline in wonderland.\n",
    "book_url = 'https://www.gutenberg.org/files/11/11-0.txt'\n",
    "\n",
    "# Get the book -- wrap it in a list to get entire book. otherwise it is fetched line by line.\n",
    "book = list(urllib.request.urlopen(book_url))\n",
    "\n",
    "# Decode the lines and strip line endings -- decode book form bytes to unicode.\n",
    "# So - decode the book line by line, strip the new line /n, and put all the unicode lines into the list.\n",
    "# In python - this is known as a list comprehension.\n",
    "book = [line.decode('utf-8-sig').strip() for line in book]\n",
    "\n",
    "# Get a sample paragraph - Look by hand\n",
    "# take lines 58 to 62, and join them with a single space, in a single string.\n",
    "paragraph = ' '.join(book[58:63])\n",
    "\n",
    "# Show the paragraph\n",
    "#print (paragraph)\n",
    "\n",
    "# Clean the paragraph up a little.\n",
    "# Return all in lower case.\n",
    "alice = paragraph.lower()\n",
    "\n",
    "# All letters and a space\n",
    "chars = 'abcdefghijklmnopqrstuvwxyz '\n",
    "\n",
    "# And strip anything that is not a letter or space.\n",
    "alice = ''.join([c for c in alice if c in chars])\n",
    "\n",
    "print()\n",
    "print()\n",
    "#print(alice)\n",
    "\n",
    "#Now lets generate a random string of letters \n",
    "import random\n",
    "\n",
    "#print a random characheter\n",
    "#print()\n",
    "#print()\n",
    "#print(random.choice(chars))\n",
    "\n",
    "#get the length of alice\n",
    "N = len(alice)\n",
    "\n",
    "# Generate N random charachters from chars\n",
    "generated = random.choices(chars, k=N)\n",
    "\n",
    "# Join them together in a string.\n",
    "generated = ''.join(generated)\n",
    "\n",
    "##print()\n",
    "print()\n",
    "#print(generated)\n",
    "\n",
    "# get the whole book\n",
    "\n",
    "sbook =''.join(book[26:]).lower()\n",
    "\n",
    "#cross ref with chars list\n",
    "weights = [sbook.count(c) for c in chars]\n",
    "\n",
    "#show weights\n",
    "weights\n",
    "print(weights)\n",
    "\n",
    "#generate a string using those weights\n",
    "weight_genr = random.choices(chars, weights=weights, k=N)\n",
    "\n",
    "#join them in a string\n",
    "weight_genr = ''.join(weight_genr)\n",
    "\n",
    "# Print\n",
    "#print(weight_genr)\n",
    "# output is somewhere between English and Random, because we put a constraint on it.\n",
    "\n",
    "# add the previous charachter as part of the weighting --- avoid the eeee\n",
    "\n",
    "# create the weights. {Curly brackets for a dictionary}\n",
    "\n",
    "two_weights = {c:  {d: sbook.count(c + d) for d in chars} for c in chars}\n",
    "# show the weights\n",
    "two_weights\n",
    "#print()\n",
    "#print('xxxxxxxxxxxxxxxx')\n",
    "#print(two_weights)\n",
    "#print()\n",
    "\n",
    "\n",
    "# we have to start with some letter\n",
    "#loop through our char set\n",
    "for i in range(len(chars)):\n",
    "    # Print the charachter and how many times it appears in Alice in wonderland\n",
    "    print(f'{chars[i]}: {weights[i]}') #f strings in python\n",
    "\n",
    "# start with space\n",
    "pairs = ' '\n",
    "\n",
    "# do the following 999 times\n",
    "for i in range(1,1000):\n",
    "    # get the weight where previous charachter is the last charachter in twos.\n",
    "    wt = two_weights[pairs[-1]]\n",
    "    #turn wt into list ordered by chars\n",
    "    wt = [wt[c] for c in chars]\n",
    "    # randomly pick the next charachter using those weights:\n",
    "    nextc = random.choices(chars, weights=weights, k=2)[0] #note difference between random.choices and random.choices\n",
    "    # append the charachter to twos.\n",
    "    pairs = pairs + nextc\n",
    "\n",
    "print()\n",
    "print()\n",
    "print()\n",
    "print(pairs)"
   ]
  },
  {
   "cell_type": "markdown",
   "id": "a0b1481e",
   "metadata": {},
   "source": [
    "#### Exercise 1 Answer:\n",
    "    \n",
    "Changed the count in this line from 1 to 2\n",
    "\n",
    "Original:\n",
    "\n",
    "nextc = random.choices(chars, weights=weights, k=1)[0] #note difference between random.choices and random.choices\n",
    "\n",
    "New:\n",
    "\n",
    "nextc = random.choices(chars, weights=weights, k=1)[0] #note difference between random.choices and random.choices\n",
    "***"
   ]
  },
  {
   "cell_type": "markdown",
   "id": "c74e85ff",
   "metadata": {},
   "source": [
    "### Exercise 2\n",
    "\n",
    "Remember to do these exercises in your own notebook in your assessment repository.\n",
    "\n",
    "Explain why the log of zero is undefined."
   ]
  },
  {
   "cell_type": "markdown",
   "id": "4ea8d1f4",
   "metadata": {},
   "source": [
    "#### Exercise 2 Answer:"
   ]
  },
  {
   "cell_type": "markdown",
   "id": "394efecc",
   "metadata": {},
   "source": [
    "First lets take exponents.\n",
    "\n",
    "2^4 = 2*2*2*2 = 16\n"
   ]
  },
  {
   "cell_type": "markdown",
   "id": "0130167e",
   "metadata": {},
   "source": [
    "Logarithms are another way of thinking about exponents [1]\n",
    "\n",
    "\n",
    "So, our example:  2^4 = 16  \n",
    "    or expressed in a Logarithm it is : log2(16)=4\n",
    "\n",
    "In python using the math function:"
   ]
  },
  {
   "cell_type": "code",
   "execution_count": 11,
   "id": "c1c7008b",
   "metadata": {},
   "outputs": [
    {
     "name": "stdout",
     "output_type": "stream",
     "text": [
      "The log value for base 2 : \n",
      "4.0\n"
     ]
    }
   ],
   "source": [
    "import math \n",
    "\n",
    "print (\"The log value for base 2 : \") \n",
    "print (math.log(16,2)) "
   ]
  },
  {
   "cell_type": "markdown",
   "id": "96260b56",
   "metadata": {},
   "source": [
    "##### Now,log zero? The best explanation I found was:"
   ]
  },
  {
   "cell_type": "markdown",
   "id": "37f20311",
   "metadata": {},
   "source": [
    "Log 0 is undefined. It’s not a real number, \n",
    "because you can never get zero by raising anything to the power of anything else. \n",
    "You can never reach zero, you can only approach it using an infinitely large and negative power. \n",
    "This is because any number raised to 0 equals 1. [2]"
   ]
  },
  {
   "cell_type": "markdown",
   "id": "09c4a0e0",
   "metadata": {},
   "source": [
    "In short, the difficulty with Log of Zero is we cannot devide by Zero.\n",
    "\n",
    "Below are 2 examples of devision.\n",
    "\n",
    "eg1 8/2 = 4\n",
    "\n",
    "eg2 8/0 = ZeroDivisionError: division by zero  "
   ]
  },
  {
   "cell_type": "code",
   "execution_count": 4,
   "id": "6b253910",
   "metadata": {},
   "outputs": [
    {
     "name": "stdout",
     "output_type": "stream",
     "text": [
      "4.0\n"
     ]
    },
    {
     "ename": "ZeroDivisionError",
     "evalue": "division by zero",
     "output_type": "error",
     "traceback": [
      "\u001b[1;31m---------------------------------------------------------------------------\u001b[0m",
      "\u001b[1;31mZeroDivisionError\u001b[0m                         Traceback (most recent call last)",
      "\u001b[1;32m~\\AppData\\Local\\Temp/ipykernel_14364/1347075500.py\u001b[0m in \u001b[0;36m<module>\u001b[1;34m\u001b[0m\n\u001b[0;32m      2\u001b[0m \u001b[0mprint\u001b[0m \u001b[1;33m(\u001b[0m\u001b[0meg1\u001b[0m\u001b[1;33m)\u001b[0m\u001b[1;33m\u001b[0m\u001b[1;33m\u001b[0m\u001b[0m\n\u001b[0;32m      3\u001b[0m \u001b[1;33m\u001b[0m\u001b[0m\n\u001b[1;32m----> 4\u001b[1;33m \u001b[0meg2\u001b[0m \u001b[1;33m=\u001b[0m \u001b[1;33m(\u001b[0m\u001b[1;36m8\u001b[0m\u001b[1;33m/\u001b[0m\u001b[1;36m0\u001b[0m\u001b[1;33m)\u001b[0m\u001b[1;33m\u001b[0m\u001b[1;33m\u001b[0m\u001b[0m\n\u001b[0m\u001b[0;32m      5\u001b[0m \u001b[0mprint\u001b[0m\u001b[1;33m(\u001b[0m\u001b[0meg2\u001b[0m\u001b[1;33m)\u001b[0m\u001b[1;33m\u001b[0m\u001b[1;33m\u001b[0m\u001b[0m\n",
      "\u001b[1;31mZeroDivisionError\u001b[0m: division by zero"
     ]
    }
   ],
   "source": [
    "eg1 = (8/2)\n",
    "print (eg1)\n",
    "\n",
    "eg2 = (8/0)\n",
    "print(eg2)\n"
   ]
  },
  {
   "cell_type": "markdown",
   "id": "ec0aaa80",
   "metadata": {},
   "source": [
    "Below are 2 examples of Log calculations.\n",
    "\n",
    "eg3 log2(16) = 4\n",
    "\n",
    "eg4 log0(16) = ValueError: math domain error (The math function is unable to give a result for Log0)"
   ]
  },
  {
   "cell_type": "code",
   "execution_count": 5,
   "id": "72cf79f8",
   "metadata": {},
   "outputs": [
    {
     "name": "stdout",
     "output_type": "stream",
     "text": [
      "4.0\n"
     ]
    },
    {
     "ename": "ValueError",
     "evalue": "math domain error",
     "output_type": "error",
     "traceback": [
      "\u001b[1;31m---------------------------------------------------------------------------\u001b[0m",
      "\u001b[1;31mValueError\u001b[0m                                Traceback (most recent call last)",
      "\u001b[1;32m~\\AppData\\Local\\Temp/ipykernel_14364/2401720698.py\u001b[0m in \u001b[0;36m<module>\u001b[1;34m\u001b[0m\n\u001b[0;32m      4\u001b[0m \u001b[0mprint\u001b[0m\u001b[1;33m(\u001b[0m\u001b[0meg3\u001b[0m\u001b[1;33m)\u001b[0m\u001b[1;33m\u001b[0m\u001b[1;33m\u001b[0m\u001b[0m\n\u001b[0;32m      5\u001b[0m \u001b[1;33m\u001b[0m\u001b[0m\n\u001b[1;32m----> 6\u001b[1;33m \u001b[0meg4\u001b[0m \u001b[1;33m=\u001b[0m \u001b[1;33m(\u001b[0m\u001b[0mmath\u001b[0m\u001b[1;33m.\u001b[0m\u001b[0mlog\u001b[0m\u001b[1;33m(\u001b[0m\u001b[1;36m16\u001b[0m\u001b[1;33m,\u001b[0m\u001b[1;36m0\u001b[0m\u001b[1;33m)\u001b[0m\u001b[1;33m)\u001b[0m\u001b[1;33m\u001b[0m\u001b[1;33m\u001b[0m\u001b[0m\n\u001b[0m\u001b[0;32m      7\u001b[0m \u001b[0mprint\u001b[0m\u001b[1;33m(\u001b[0m\u001b[0meg4\u001b[0m\u001b[1;33m)\u001b[0m\u001b[1;33m\u001b[0m\u001b[1;33m\u001b[0m\u001b[0m\n",
      "\u001b[1;31mValueError\u001b[0m: math domain error"
     ]
    }
   ],
   "source": [
    "import math \n",
    "\n",
    "eg3 = (math.log(16,2))\n",
    "print(eg3)  \n",
    "\n",
    "eg4 = (math.log(16,0))\n",
    "print(eg4)  "
   ]
  },
  {
   "cell_type": "markdown",
   "id": "44f62268",
   "metadata": {},
   "source": [
    "***\n",
    "#### References\n",
    "\n",
    "[1]  https://www.khanacademy.org/math/algebra2/x2ec2f6f830c9fb89:logs\n",
    "        \n",
    "[2]  https://short-facts.com/is-log-zero-value-of-infinity/"
   ]
  }
 ],
 "metadata": {
  "kernelspec": {
   "display_name": "Python 3 (ipykernel)",
   "language": "python",
   "name": "python3"
  },
  "language_info": {
   "codemirror_mode": {
    "name": "ipython",
    "version": 3
   },
   "file_extension": ".py",
   "mimetype": "text/x-python",
   "name": "python",
   "nbconvert_exporter": "python",
   "pygments_lexer": "ipython3",
   "version": "3.9.7"
  },
  "vscode": {
   "interpreter": {
    "hash": "5d45030d5a8892c8a97a172467bbed5f13961f0ed3ba85642a60189e1d097396"
   }
  }
 },
 "nbformat": 4,
 "nbformat_minor": 5
}
