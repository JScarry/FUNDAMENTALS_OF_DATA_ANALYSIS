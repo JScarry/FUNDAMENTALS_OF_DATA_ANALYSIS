{
 "cells": [
  {
   "cell_type": "markdown",
   "id": "731b4566",
   "metadata": {},
   "source": [
    "## Data Cleansing"
   ]
  },
  {
   "cell_type": "markdown",
   "id": "07dadd3e",
   "metadata": {},
   "source": [
    "### Exercise 1\n",
    "Remember to do these exercises in your own notebook in your assessment repository.\n",
    "\n",
    "Write a Python function to remove all non-alphanumeric characters from a string."
   ]
  },
  {
   "cell_type": "markdown",
   "id": "fef78766",
   "metadata": {},
   "source": [
    "### Exercise 1 answer:\n",
    "Defined the function fn that uses the Python Regex sub() function to find and replace. \n",
    "The syntax is regex.sub(pattern,replacement,output string) \n",
    "\n",
    "Ref# https://www.pythontutorial.net/python-regex/python-regex-sub/"
   ]
  },
  {
   "cell_type": "code",
   "execution_count": 2,
   "id": "b21cbe33",
   "metadata": {},
   "outputs": [
    {
     "name": "stdout",
     "output_type": "stream",
     "text": [
      "Before: The function \"fn\" should remove all non-alphanumeric characters from this string, 321.. here goes, fingers crossed! ;-)\n",
      "After: The function  fn  should remove all non alphanumeric characters from this string  321   here goes  fingers crossed     \n"
     ]
    }
   ],
   "source": [
    "import re\n",
    "s = 'The function \"fn\" should remove all non-alphanumeric characters from this string, 321.. here goes, fingers crossed! ;-)'\n",
    "\n",
    "\n",
    "def fn():\n",
    "    s2 = re.sub(r'[^a-zA-Z\\d]',' ', s) #re.sub substitutes the pattern with the replacement in the string. \n",
    "                                        #in this case [^a-z+A-Z+\\d] = ( ^ = everything except chars a-z and A-Z and decimal 0-9 )\n",
    "                                        #will be substituted with a blank space\n",
    "                                        #note: this will find and replace blank spaces also!\n",
    "    print('After:',s2)  #fn output\n",
    "\n",
    "\n",
    "print('Before:' ,s) #print original string before calling fn\n",
    "fn() \n"
   ]
  }
 ],
 "metadata": {
  "kernelspec": {
   "display_name": "Python 3 (ipykernel)",
   "language": "python",
   "name": "python3"
  },
  "language_info": {
   "codemirror_mode": {
    "name": "ipython",
    "version": 3
   },
   "file_extension": ".py",
   "mimetype": "text/x-python",
   "name": "python",
   "nbconvert_exporter": "python",
   "pygments_lexer": "ipython3",
   "version": "3.9.7"
  }
 },
 "nbformat": 4,
 "nbformat_minor": 5
}
