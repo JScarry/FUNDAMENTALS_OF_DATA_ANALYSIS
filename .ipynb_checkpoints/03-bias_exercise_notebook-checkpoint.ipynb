{
 "cells": [
  {
   "cell_type": "markdown",
   "metadata": {},
   "source": [
    "### Exercises about Bias\n",
    "\n",
    "Topic 3. Bias\n",
    "\n",
    "Exercise 1 and 2 answers below."
   ]
  },
  {
   "cell_type": "markdown",
   "metadata": {},
   "source": [
    "### Exercise 1\n",
    "Remember to do these exercises in your own notebook in your assessment repository.\n",
    "\n",
    "Give three real-world examples of different types of cognitive bias. For example a "
   ]
  },
  {
   "cell_type": "markdown",
   "metadata": {},
   "source": [
    "### Exercise 1  Answers\n",
    "#### The Anchoring Bias\n",
    "We  sometimes become overly influenced by the first piece of information that we hear. \n",
    "For example, when negotiating the sale of, say a used car the first number offered becomes \n",
    "the anchor, so if selling suggest an inflated price initially to be the anchor and allow the\n",
    "buyer to negotiate from there.\n",
    "\n",
    "#### Confirmation Bias\n",
    "It is a tendancy to focus on and remember information in a way that supports your beliefs. \n",
    "Confirmation bias is often reinforced with social media algorithims pushing news to users based on\n",
    "previous information they have searched or engaged with.\n",
    "An example might be during a pollitical election people may seek information that shows \n",
    "the candidate they support in a positive way, while forgetting negative information or not reading negative articles.\n",
    "\n",
    "#### Hindsight Bias\n",
    "This is also known as the \"knew it all along\" phenomenon. For example after loosing \n",
    "a football game a supporter may say they knew they would not win. This bias can cause over confidence\n",
    "when predicting future events."
   ]
  },
  {
   "cell_type": "markdown",
   "metadata": {},
   "source": [
    "## Exercise 2\n",
    "Remember to do these exercises in your own notebook in your assessment repository.\n",
    "\n",
    "Show that the difference between the standard deviation calculations is greatest for small sample sizes."
   ]
  },
  {
   "cell_type": "markdown",
   "metadata": {},
   "source": [
    "### Exercise 2 Answers\n",
    "\n",
    "From the Central Limit Theorem, we know that the larger the sample size gets the smaller the standard deviation of the sampling distribution gets.\n",
    "\n",
    "Examples below:\n",
    "\n",
    "First code shows standard deviation between 2 random numbers picked between 1 and 100. \n",
    "This varies greatly each time we run the code. We regularly get results from 4 to 40 and beyond.\n",
    "\n",
    "Second code is calculating the same value but from a far greater sample, so standard deviation \n",
    "changes very little when we re-run. We get a result of very close to 29 repeatedly.\n"
   ]
  },
  {
   "cell_type": "code",
   "execution_count": 77,
   "metadata": {},
   "outputs": [
    {
     "name": "stdout",
     "output_type": "stream",
     "text": [
      "[82, 86]\n",
      "2.0\n"
     ]
    }
   ],
   "source": [
    "import random\n",
    "\n",
    "random_list = [random.randint(1, 100) for i in range(2)]\n",
    "Standard_deviation = np.std(random_list)\n",
    "print(random_list)\n",
    "print(Standard_deviation)\n"
   ]
  },
  {
   "cell_type": "code",
   "execution_count": 66,
   "metadata": {},
   "outputs": [
    {
     "name": "stdout",
     "output_type": "stream",
     "text": [
      "28.866749836834767\n"
     ]
    }
   ],
   "source": [
    "import random\n",
    "\n",
    "random_list = [random.randint(1, 100) for i in range(50000)]\n",
    "Standard_deviation = np.std(random_list)\n",
    "#print(random_list)\n",
    "print(Standard_deviation)"
   ]
  },
  {
   "cell_type": "code",
   "execution_count": null,
   "metadata": {},
   "outputs": [],
   "source": []
  }
 ],
 "metadata": {
  "kernelspec": {
   "display_name": "Python 3 (ipykernel)",
   "language": "python",
   "name": "python3"
  },
  "language_info": {
   "codemirror_mode": {
    "name": "ipython",
    "version": 3
   },
   "file_extension": ".py",
   "mimetype": "text/x-python",
   "name": "python",
   "nbconvert_exporter": "python",
   "pygments_lexer": "ipython3",
   "version": "3.9.7"
  }
 },
 "nbformat": 4,
 "nbformat_minor": 4
}
