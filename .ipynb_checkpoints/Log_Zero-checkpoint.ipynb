{
 "cells": [
  {
   "cell_type": "markdown",
   "id": "5d437f50",
   "metadata": {},
   "source": [
    "## FUNDAMENTALS_OF_DATA_ANALYSIS\n",
    "### Weekly exercise\n",
    "\n",
    "Explain why the log of Zero is undefined"
   ]
  },
  {
   "cell_type": "code",
   "execution_count": null,
   "id": "9b9bef87",
   "metadata": {},
   "outputs": [],
   "source": [
    "First lets take exponents\n",
    "\n",
    "2^4 = 2*2*2*2 = 16"
   ]
  },
  {
   "cell_type": "code",
   "execution_count": null,
   "id": "6429d713",
   "metadata": {},
   "outputs": [],
   "source": [
    "Logarithms are another way of thinking about exponents [1]\n",
    "\n",
    "\n",
    "So, our example:  2^4 = 16  \n",
    "    or expressed in a Logarithm it is : log2(16)=4\n",
    "\n",
    "In python using the math function:"
   ]
  },
  {
   "cell_type": "code",
   "execution_count": 10,
   "id": "8971ac41",
   "metadata": {},
   "outputs": [
    {
     "name": "stdout",
     "output_type": "stream",
     "text": [
      "The log value for base 2 : \n",
      "4.0\n"
     ]
    }
   ],
   "source": [
    "import math \n",
    "\n",
    "print (\"The log value for base 2 : \") \n",
    "print (math.log(16,2)) "
   ]
  },
  {
   "cell_type": "code",
   "execution_count": null,
   "id": "f4be2cd1",
   "metadata": {},
   "outputs": [],
   "source": [
    "Now,log zero? The best explanation I found was:"
   ]
  },
  {
   "cell_type": "code",
   "execution_count": null,
   "id": "45fa62ab",
   "metadata": {},
   "outputs": [],
   "source": [
    "log 0 is undefined. It’s not a real number, \n",
    "because you can never get zero by raising anything to the power of anything else. \n",
    "You can never reach zero, you can only approach it using an infinitely large and negative power. \n",
    "This is because any number raised to 0 equals 1. [2]"
   ]
  },
  {
   "cell_type": "code",
   "execution_count": 16,
   "id": "f6e50482",
   "metadata": {},
   "outputs": [
    {
     "ename": "ValueError",
     "evalue": "math domain error",
     "output_type": "error",
     "traceback": [
      "\u001b[1;31m---------------------------------------------------------------------------\u001b[0m",
      "\u001b[1;31mValueError\u001b[0m                                Traceback (most recent call last)",
      "\u001b[1;32m~\\AppData\\Local\\Temp/ipykernel_12068/3267197550.py\u001b[0m in \u001b[0;36m<module>\u001b[1;34m\u001b[0m\n\u001b[0;32m      1\u001b[0m \u001b[1;32mimport\u001b[0m \u001b[0mmath\u001b[0m\u001b[1;33m\u001b[0m\u001b[1;33m\u001b[0m\u001b[0m\n\u001b[0;32m      2\u001b[0m \u001b[1;33m\u001b[0m\u001b[0m\n\u001b[1;32m----> 3\u001b[1;33m \u001b[0mprint\u001b[0m \u001b[1;33m(\u001b[0m\u001b[0mmath\u001b[0m\u001b[1;33m.\u001b[0m\u001b[0mlog\u001b[0m\u001b[1;33m(\u001b[0m\u001b[1;36m8\u001b[0m\u001b[1;33m,\u001b[0m\u001b[1;36m0\u001b[0m\u001b[1;33m)\u001b[0m\u001b[1;33m)\u001b[0m\u001b[1;33m\u001b[0m\u001b[1;33m\u001b[0m\u001b[0m\n\u001b[0m",
      "\u001b[1;31mValueError\u001b[0m: math domain error"
     ]
    }
   ],
   "source": [
    "import math \n",
    "\n",
    "print (math.log(8,0)) "
   ]
  },
  {
   "cell_type": "code",
   "execution_count": null,
   "id": "ffb71291",
   "metadata": {},
   "outputs": [],
   "source": [
    "References\n",
    "\n",
    "[1]  https://www.khanacademy.org/math/algebra2/x2ec2f6f830c9fb89:logs\n",
    "        \n",
    "[2]  https://short-facts.com/is-log-zero-value-of-infinity/"
   ]
  }
 ],
 "metadata": {
  "kernelspec": {
   "display_name": "Python 3 (ipykernel)",
   "language": "python",
   "name": "python3"
  },
  "language_info": {
   "codemirror_mode": {
    "name": "ipython",
    "version": 3
   },
   "file_extension": ".py",
   "mimetype": "text/x-python",
   "name": "python",
   "nbconvert_exporter": "python",
   "pygments_lexer": "ipython3",
   "version": "3.9.7"
  }
 },
 "nbformat": 4,
 "nbformat_minor": 5
}
