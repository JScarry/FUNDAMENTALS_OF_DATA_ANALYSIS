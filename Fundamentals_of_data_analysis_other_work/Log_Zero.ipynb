{
 "cells": [
  {
   "cell_type": "markdown",
   "id": "5d437f50",
   "metadata": {},
   "source": [
    "## FUNDAMENTALS_OF_DATA_ANALYSIS\n",
    "### Weekly exercise\n",
    "\n",
    "Explain why the log of Zero is undefined"
   ]
  },
  {
   "cell_type": "code",
   "execution_count": null,
   "id": "9b9bef87",
   "metadata": {},
   "outputs": [],
   "source": [
    "First lets take exponents.\n",
    "\n",
    "2^4 = 2*2*2*2 = 16"
   ]
  },
  {
   "cell_type": "code",
   "execution_count": null,
   "id": "6429d713",
   "metadata": {},
   "outputs": [],
   "source": [
    "Logarithms are another way of thinking about exponents [1]\n",
    "\n",
    "\n",
    "So, our example:  2^4 = 16  \n",
    "    or expressed in a Logarithm it is : log2(16)=4\n",
    "\n",
    "In python using the math function:"
   ]
  },
  {
   "cell_type": "code",
   "execution_count": 10,
   "id": "8971ac41",
   "metadata": {},
   "outputs": [
    {
     "name": "stdout",
     "output_type": "stream",
     "text": [
      "The log value for base 2 : \n",
      "4.0\n"
     ]
    }
   ],
   "source": [
    "import math \n",
    "\n",
    "print (\"The log value for base 2 : \") \n",
    "print (math.log(16,2)) "
   ]
  },
  {
   "cell_type": "code",
   "execution_count": null,
   "id": "f4be2cd1",
   "metadata": {},
   "outputs": [],
   "source": [
    "Now,log zero? The best explanation I found was:"
   ]
  },
  {
   "cell_type": "code",
   "execution_count": null,
   "id": "45fa62ab",
   "metadata": {},
   "outputs": [],
   "source": [
    "log 0 is undefined. It’s not a real number, \n",
    "because you can never get zero by raising anything to the power of anything else. \n",
    "You can never reach zero, you can only approach it using an infinitely large and negative power. \n",
    "This is because any number raised to 0 equals 1. [2]"
   ]
  },
  {
   "cell_type": "code",
   "execution_count": null,
   "id": "045d9415",
   "metadata": {},
   "outputs": [],
   "source": [
    "In short, the difficulty with Log of Zero is we cannot devide by Zero.\n",
    "\n",
    "Below are 2 examples of devision.\n",
    "\n",
    "eg1 8/2 = 4\n",
    "\n",
    "eg2 8/0 = ZeroDivisionError: division by zero  "
   ]
  },
  {
   "cell_type": "code",
   "execution_count": 6,
   "id": "b22d51d5",
   "metadata": {},
   "outputs": [
    {
     "name": "stdout",
     "output_type": "stream",
     "text": [
      "4.0\n"
     ]
    },
    {
     "ename": "ZeroDivisionError",
     "evalue": "division by zero",
     "output_type": "error",
     "traceback": [
      "\u001b[1;31m---------------------------------------------------------------------------\u001b[0m",
      "\u001b[1;31mZeroDivisionError\u001b[0m                         Traceback (most recent call last)",
      "\u001b[1;32m~\\AppData\\Local\\Temp/ipykernel_13248/1347075500.py\u001b[0m in \u001b[0;36m<module>\u001b[1;34m\u001b[0m\n\u001b[0;32m      2\u001b[0m \u001b[0mprint\u001b[0m \u001b[1;33m(\u001b[0m\u001b[0meg1\u001b[0m\u001b[1;33m)\u001b[0m\u001b[1;33m\u001b[0m\u001b[1;33m\u001b[0m\u001b[0m\n\u001b[0;32m      3\u001b[0m \u001b[1;33m\u001b[0m\u001b[0m\n\u001b[1;32m----> 4\u001b[1;33m \u001b[0meg2\u001b[0m \u001b[1;33m=\u001b[0m \u001b[1;33m(\u001b[0m\u001b[1;36m8\u001b[0m\u001b[1;33m/\u001b[0m\u001b[1;36m0\u001b[0m\u001b[1;33m)\u001b[0m\u001b[1;33m\u001b[0m\u001b[1;33m\u001b[0m\u001b[0m\n\u001b[0m\u001b[0;32m      5\u001b[0m \u001b[0mprint\u001b[0m\u001b[1;33m(\u001b[0m\u001b[0meg2\u001b[0m\u001b[1;33m)\u001b[0m\u001b[1;33m\u001b[0m\u001b[1;33m\u001b[0m\u001b[0m\n",
      "\u001b[1;31mZeroDivisionError\u001b[0m: division by zero"
     ]
    }
   ],
   "source": [
    "eg1 = (8/2)\n",
    "print (eg1)\n",
    "\n",
    "eg2 = (8/0)\n",
    "print(eg2)\n"
   ]
  },
  {
   "cell_type": "code",
   "execution_count": null,
   "id": "2eed85fd",
   "metadata": {},
   "outputs": [],
   "source": [
    "Below are 2 examples of Log calculations.\n",
    "\n",
    "eg3 log2(16) = 4\n",
    "\n",
    "eg4 log0(16) = ValueError: math domain error (The math function is unable to give a result for Log0)"
   ]
  },
  {
   "cell_type": "code",
   "execution_count": 9,
   "id": "f6e50482",
   "metadata": {
    "scrolled": true
   },
   "outputs": [
    {
     "name": "stdout",
     "output_type": "stream",
     "text": [
      "4.0\n"
     ]
    },
    {
     "ename": "ValueError",
     "evalue": "math domain error",
     "output_type": "error",
     "traceback": [
      "\u001b[1;31m---------------------------------------------------------------------------\u001b[0m",
      "\u001b[1;31mValueError\u001b[0m                                Traceback (most recent call last)",
      "\u001b[1;32m~\\AppData\\Local\\Temp/ipykernel_13248/2401720698.py\u001b[0m in \u001b[0;36m<module>\u001b[1;34m\u001b[0m\n\u001b[0;32m      4\u001b[0m \u001b[0mprint\u001b[0m\u001b[1;33m(\u001b[0m\u001b[0meg3\u001b[0m\u001b[1;33m)\u001b[0m\u001b[1;33m\u001b[0m\u001b[1;33m\u001b[0m\u001b[0m\n\u001b[0;32m      5\u001b[0m \u001b[1;33m\u001b[0m\u001b[0m\n\u001b[1;32m----> 6\u001b[1;33m \u001b[0meg4\u001b[0m \u001b[1;33m=\u001b[0m \u001b[1;33m(\u001b[0m\u001b[0mmath\u001b[0m\u001b[1;33m.\u001b[0m\u001b[0mlog\u001b[0m\u001b[1;33m(\u001b[0m\u001b[1;36m16\u001b[0m\u001b[1;33m,\u001b[0m\u001b[1;36m0\u001b[0m\u001b[1;33m)\u001b[0m\u001b[1;33m)\u001b[0m\u001b[1;33m\u001b[0m\u001b[1;33m\u001b[0m\u001b[0m\n\u001b[0m\u001b[0;32m      7\u001b[0m \u001b[0mprint\u001b[0m\u001b[1;33m(\u001b[0m\u001b[0meg4\u001b[0m\u001b[1;33m)\u001b[0m\u001b[1;33m\u001b[0m\u001b[1;33m\u001b[0m\u001b[0m\n",
      "\u001b[1;31mValueError\u001b[0m: math domain error"
     ]
    }
   ],
   "source": [
    "import math \n",
    "\n",
    "eg3 = (math.log(16,2))\n",
    "print(eg3)  \n",
    "\n",
    "eg4 = (math.log(16,0))\n",
    "print(eg4)  "
   ]
  },
  {
   "cell_type": "code",
   "execution_count": null,
   "id": "ffb71291",
   "metadata": {},
   "outputs": [],
   "source": [
    "References\n",
    "\n",
    "[1]  https://www.khanacademy.org/math/algebra2/x2ec2f6f830c9fb89:logs\n",
    "        \n",
    "[2]  https://short-facts.com/is-log-zero-value-of-infinity/"
   ]
  }
 ],
 "metadata": {
  "kernelspec": {
   "display_name": "Python 3 (ipykernel)",
   "language": "python",
   "name": "python3"
  },
  "language_info": {
   "codemirror_mode": {
    "name": "ipython",
    "version": 3
   },
   "file_extension": ".py",
   "mimetype": "text/x-python",
   "name": "python",
   "nbconvert_exporter": "python",
   "pygments_lexer": "ipython3",
   "version": "3.9.7"
  }
 },
 "nbformat": 4,
 "nbformat_minor": 5
}
